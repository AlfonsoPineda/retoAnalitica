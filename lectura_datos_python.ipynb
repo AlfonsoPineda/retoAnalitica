{
 "cells": [
  {
   "cell_type": "markdown",
   "metadata": {},
   "source": [
    "# Lectura de datos con Python"
   ]
  },
  {
   "cell_type": "markdown",
   "metadata": {},
   "source": [
    "1. Con csv"
   ]
  },
  {
   "cell_type": "code",
   "execution_count": null,
   "metadata": {},
   "outputs": [],
   "source": [
    "import csv\n",
    "\n",
    "def creaMatriz(nombre_archivo):\n",
    "    with open(nombre_archivo, newline = '') as csv_file:\n",
    "        csv_reader = csv.reader(csv_file)\n",
    "        data = list(csv_reader)\n",
    "\n",
    "#Para quitar la columna de id\n",
    "    for i in range(len(data)):\n",
    "        data[i].pop(0)         \n",
    "    return data\n",
    "    \n",
    "matriz = creaMatriz('avocado.csv')\n",
    "print(matriz)"
   ]
  },
  {
   "cell_type": "markdown",
   "metadata": {},
   "source": [
    "a. ¿Cuántos objetos hay?"
   ]
  },
  {
   "cell_type": "code",
   "execution_count": null,
   "metadata": {},
   "outputs": [],
   "source": [
    "print(len(matriz ) - 1)"
   ]
  },
  {
   "cell_type": "markdown",
   "metadata": {},
   "source": [
    "b. ¿Cuál es el valor de la variable 2 del objeto 15?"
   ]
  },
  {
   "cell_type": "code",
   "execution_count": null,
   "metadata": {},
   "outputs": [],
   "source": [
    "valor = matriz[16][2-1]\n",
    "print(valor)"
   ]
  },
  {
   "cell_type": "markdown",
   "metadata": {},
   "source": [
    "c. ¿Cuál es el mínimo y máximo de la variable 3?"
   ]
  },
  {
   "cell_type": "code",
   "execution_count": null,
   "metadata": {},
   "outputs": [],
   "source": [
    "def columnaNumerica (matriz,ncol):\n",
    "    #convierte la columna seleccionada en numeros\n",
    "    columna = []\n",
    "    for i in range (1,len(matriz)):\n",
    "        if not matriz [i][ncol]:\n",
    "            dato = 0\n",
    "        else:\n",
    "            dato = float (matriz[i][ncol])\n",
    "        columna.append (dato)\n",
    "    return (columna)\n",
    "\n",
    "\n",
    "def mmax(matriz,ncol):\n",
    "    #obtiene el valor máximo de cada columna\n",
    "    return max(columnaNumerica(matriz,ncol))\n",
    "\n",
    "def mmin(matriz,ncol):\n",
    "    #calcula el valor minimo de cada columna\n",
    "    return min(columnaNumerica(matriz,ncol))\n",
    "\n",
    "print(\"minimo = \", mmin(matriz,2))\n",
    "print(\"maxumo = \", mmax(matriz,2))\n",
    "\n"
   ]
  },
  {
   "cell_type": "markdown",
   "metadata": {},
   "source": [
    "2. Sin librerias"
   ]
  },
  {
   "cell_type": "code",
   "execution_count": null,
   "metadata": {},
   "outputs": [],
   "source": [
    "matrix = []\n",
    "\n",
    "fileRead = open('avocado.csv','r')\n",
    "for i in range(18251):\n",
    "    renglon = []\n",
    "    renglon.append(fileRead.readline().split(','))\n",
    "    matrix.append(renglon)\n",
    "    \n",
    "print(matrix)"
   ]
  },
  {
   "cell_type": "markdown",
   "metadata": {},
   "source": [
    "3. Con libreria re"
   ]
  },
  {
   "cell_type": "code",
   "execution_count": null,
   "metadata": {},
   "outputs": [],
   "source": [
    "import re\n",
    "matrix = []\n",
    "fileRead = re.split(',|\\n', open('avocado.csv', 'r').read())\n",
    "while fileRead != []:\n",
    "    matrix.append(fileRead[:14])\n",
    "    fileRead = fileRead[14:]\n",
    "print(matrix)"
   ]
  }
 ],
 "metadata": {
  "interpreter": {
   "hash": "26de051ba29f2982a8de78e945f0abaf191376122a1563185a90213a26c5da77"
  },
  "kernelspec": {
   "display_name": "Python 3.10.4 64-bit",
   "language": "python",
   "name": "python3"
  },
  "language_info": {
   "codemirror_mode": {
    "name": "ipython",
    "version": 3
   },
   "file_extension": ".py",
   "mimetype": "text/x-python",
   "name": "python",
   "nbconvert_exporter": "python",
   "pygments_lexer": "ipython3",
   "version": "3.10.4"
  },
  "orig_nbformat": 4
 },
 "nbformat": 4,
 "nbformat_minor": 2
}
