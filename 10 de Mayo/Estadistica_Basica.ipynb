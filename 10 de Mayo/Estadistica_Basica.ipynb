{
 "cells": [
  {
   "cell_type": "markdown",
   "id": "596ce7f5",
   "metadata": {},
   "source": [
    "# Visualizaciones de estadística básica\n",
    "Con los datos cargados, utiliza la función boxplot para obtener un diagrama de cajas y bigotes (boxplot, whisker plot). En este diagrama podrás observar para una variable la diferencia entre el mayor y el menor, cómo están distribuidos los datos, dónde se encuentra la mediana y si existen outliers, datos que se salen de los valores esperados a partir de los demás."
   ]
  },
  {
   "cell_type": "code",
   "execution_count": 12,
   "id": "d126d18b",
   "metadata": {},
   "outputs": [],
   "source": [
    "import matplotlib.pyplot as plt\n",
    "import seaborn as sb\n",
    "import pandas as pd\n",
    "\n",
    "def readData():\n",
    "    data = pd.read_csv(\"data1.txt\", sep = \"\\t\", header = 0)\n",
    "    return data"
   ]
  },
  {
   "cell_type": "code",
   "execution_count": 20,
   "id": "a22af99d",
   "metadata": {},
   "outputs": [
    {
     "data": {
      "image/png": "[encoded data removed]",
      "text/plain": [
       "<Figure size 432x288 with 1 Axes>"
      ]
     },
     "metadata": {
      "needs_background": "light"
     },
     "output_type": "display_data"
    }
   ],
   "source": [
    "# Creating dataset\n",
    "df = readData()\n",
    " \n",
    "# Creating boxplot\n",
    "plt.boxplot(df)\n",
    "plt.show()"
   ]
  },
  {
   "cell_type": "markdown",
   "id": "e40199ec",
   "metadata": {},
   "source": [
    "Con los datos, utiliza la función hist (Enlaces a un sitio externo.) para crear un histograma. Esta gráfica te dirá información acerca de cómo esta distribuida la variable y en qué rangos se encuentran más valores."
   ]
  },
  {
   "cell_type": "code",
   "execution_count": 15,
   "id": "be7b22fd",
   "metadata": {},
   "outputs": [
    {
     "data": {
      "image/png": "[encoded data removed]",
      "text/plain": [
       "<Figure size 432x288 with 1 Axes>"
      ]
     },
     "metadata": {
      "needs_background": "light"
     },
     "output_type": "display_data"
    }
   ],
   "source": [
    "# Creating hist\n",
    "plt.hist(df)\n",
    "plt.show()"
   ]
  },
  {
   "cell_type": "code",
   "execution_count": 25,
   "id": "7a7da1f8",
   "metadata": {},
   "outputs": [
    {
     "data": {
      "image/png": "[encoded data removed]",
      "text/plain": [
       "<Figure size 432x288 with 1 Axes>"
      ]
     },
     "metadata": {
      "needs_background": "light"
     },
     "output_type": "display_data"
    }
   ],
   "source": [
    "# Creating Scatter\n",
    "\n",
    "y=df.iloc[: ,1]\n",
    "x = range(len(y))\n",
    "plt.scatter(x,y)\n",
    "plt.show()"
   ]
  },
  {
   "cell_type": "markdown",
   "id": "fa2d89ad",
   "metadata": {},
   "source": [
    "Utiliza la función corr para obtener un diagrama de correlación. Este análisis te sirve para indicar si hay variables que se parecen o pueden explicar otras. Generalmente conviene eliminar variables con alta correlación, ya que éstas pueden meter ruido y hacer más difícil el problema de manejar."
   ]
  },
  {
   "cell_type": "code",
   "execution_count": 24,
   "id": "c52301df",
   "metadata": {},
   "outputs": [
    {
     "data": {
      "text/html": [
       "<div>\n",
       "<style scoped>\n",
       "    .dataframe tbody tr th:only-of-type {\n",
       "        vertical-align: middle;\n",
       "    }\n",
       "\n",
       "    .dataframe tbody tr th {\n",
       "        vertical-align: top;\n",
       "    }\n",
       "\n",
       "    .dataframe thead th {\n",
       "        text-align: right;\n",
       "    }\n",
       "</style>\n",
       "<table border=\"1\" class=\"dataframe\">\n",
       "  <thead>\n",
       "    <tr style=\"text-align: right;\">\n",
       "      <th></th>\n",
       "      <th>x</th>\n",
       "      <th>y</th>\n",
       "    </tr>\n",
       "  </thead>\n",
       "  <tbody>\n",
       "    <tr>\n",
       "      <th>x</th>\n",
       "      <td>1.00000</td>\n",
       "      <td>0.94009</td>\n",
       "    </tr>\n",
       "    <tr>\n",
       "      <th>y</th>\n",
       "      <td>0.94009</td>\n",
       "      <td>1.00000</td>\n",
       "    </tr>\n",
       "  </tbody>\n",
       "</table>\n",
       "</div>"
      ],
      "text/plain": [
       "         x        y\n",
       "x  1.00000  0.94009\n",
       "y  0.94009  1.00000"
      ]
     },
     "execution_count": 24,
     "metadata": {},
     "output_type": "execute_result"
    }
   ],
   "source": [
    "df.corr()"
   ]
  },
  {
   "cell_type": "markdown",
   "id": "20c99d84",
   "metadata": {},
   "source": [
    "Utilizando la función heatmap de seaborn, harás un mapa de calor. Este te indica de manera gráfica la correlación entre dos variables, donde sea más fuerte el color, significa que la correlación es más grande."
   ]
  },
  {
   "cell_type": "code",
   "execution_count": 19,
   "id": "ca81c6d8",
   "metadata": {},
   "outputs": [
    {
     "data": {
      "image/png": "[encoded data removed]",
      "text/plain": [
       "<Figure size 432x288 with 2 Axes>"
      ]
     },
     "metadata": {
      "needs_background": "light"
     },
     "output_type": "display_data"
    }
   ],
   "source": [
    "hm = sb.heatmap(df);"
   ]
  }
 ],
 "metadata": {
  "kernelspec": {
   "display_name": "Python 3 (ipykernel)",
   "language": "python",
   "name": "python3"
  },
  "language_info": {
   "codemirror_mode": {
    "name": "ipython",
    "version": 3
   },
   "file_extension": ".py",
   "mimetype": "text/x-python",
   "name": "python",
   "nbconvert_exporter": "python",
   "pygments_lexer": "ipython3",
   "version": "3.8.13"
  }
 },
 "nbformat": 4,
 "nbformat_minor": 5
}
